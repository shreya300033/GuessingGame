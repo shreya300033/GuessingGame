{
 "cells": [
  {
   "cell_type": "code",
   "execution_count": 1,
   "id": "8ca3c651",
   "metadata": {},
   "outputs": [],
   "source": [
    "import random"
   ]
  },
  {
   "cell_type": "code",
   "execution_count": 3,
   "id": "423c7aa7",
   "metadata": {},
   "outputs": [
    {
     "data": {
      "text/plain": [
       "86"
      ]
     },
     "execution_count": 3,
     "metadata": {},
     "output_type": "execute_result"
    }
   ],
   "source": [
    "random.randint(1,100)"
   ]
  },
  {
   "cell_type": "code",
   "execution_count": 5,
   "id": "89e3e54c",
   "metadata": {},
   "outputs": [
    {
     "name": "stdout",
     "output_type": "stream",
     "text": [
      "WELCOME TO GUESSING GAME\n",
      "Guess a number between 1 to 100 of your choice: 34\n",
      "Guess a higher number.\n",
      "Guess again: 45\n",
      "Guess a higher number.\n",
      "Guess again: 55\n",
      "Guess a higher number.\n",
      "Guess again: 70\n",
      "Guess a lower number.\n",
      "Guess again: 60\n",
      "Guess a higher number.\n",
      "Guess again: 65\n",
      "Guess a higher number.\n",
      "Guess again: 67\n",
      "You guessed the number!!\n",
      "You took 7 attempts to guess the write number.\n"
     ]
    }
   ],
   "source": [
    "print(\"WELCOME TO GUESSING GAME\")\n",
    "\n",
    "jackpot = random.randint(1,100)\n",
    "\n",
    "guess = int(input(\"Guess a number between 1 to 100 of your choice: \"))\n",
    "counter = 1\n",
    "\n",
    "while guess != jackpot:\n",
    "    if guess > jackpot:\n",
    "        print(\"Guess a lower number.\")\n",
    "    else:\n",
    "        print(\"Guess a higher number.\")\n",
    "    \n",
    "    guess = int(input(\"Guess again: \"))\n",
    "    counter += 1\n",
    "    \n",
    "print(\"You guessed the number!!\")\n",
    "print(\"You took\", counter,\"attempts to guess the write number.\")"
   ]
  },
  {
   "cell_type": "code",
   "execution_count": null,
   "id": "dd200d56",
   "metadata": {},
   "outputs": [],
   "source": []
  }
 ],
 "metadata": {
  "kernelspec": {
   "display_name": "Python 3 (ipykernel)",
   "language": "python",
   "name": "python3"
  },
  "language_info": {
   "codemirror_mode": {
    "name": "ipython",
    "version": 3
   },
   "file_extension": ".py",
   "mimetype": "text/x-python",
   "name": "python",
   "nbconvert_exporter": "python",
   "pygments_lexer": "ipython3",
   "version": "3.11.5"
  }
 },
 "nbformat": 4,
 "nbformat_minor": 5
}
